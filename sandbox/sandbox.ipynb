{
 "cells": [
  {
   "cell_type": "code",
   "execution_count": 2,
   "metadata": {},
   "outputs": [],
   "source": [
    "import pandas as pd"
   ]
  },
  {
   "cell_type": "code",
   "execution_count": 3,
   "metadata": {},
   "outputs": [],
   "source": [
    "# path to manifest file xslx\n",
    "manifest_file = \"\"\n",
    "\n",
    "# TODO add relationships from reference query reults\n",
    "reference_file = \"\"\n",
    "\n",
    "# output file name\n",
    "dbml_filename = manifest_file.split('.')[0] + \".dbml\""
   ]
  },
  {
   "cell_type": "code",
   "execution_count": 4,
   "metadata": {},
   "outputs": [],
   "source": [
    "# sheets in manifest excel workbook\n",
    "is_sheet_name = \"sistema\"\n",
    "tables_sheet_name = \"lentelės\"\n",
    "columns_sheet_name = \"stulpeliai\""
   ]
  },
  {
   "cell_type": "code",
   "execution_count": 5,
   "metadata": {},
   "outputs": [],
   "source": [
    "df_is = pd.read_excel(manifest_file, sheet_name=is_sheet_name)\n",
    "df_tables = pd.read_excel(manifest_file, sheet_name=tables_sheet_name)\n",
    "df_columns = pd.read_excel(manifest_file, sheet_name=columns_sheet_name)\n",
    "\n",
    "df_ref = pd.read_csv(reference_file, sep=';')"
   ]
  },
  {
   "cell_type": "code",
   "execution_count": 6,
   "metadata": {},
   "outputs": [],
   "source": [
    "dbml_lines = []\n",
    "for row_index, row in df_tables.iterrows():\n",
    "    table_name = row['table'].replace('$', '_')\n",
    "    header = f\"Table {table_name} {{\\n\"\n",
    "    \n",
    "    columns = \"\"\n",
    "    for col_index, col in (df_columns[df_columns['table'] == row['table']]).iterrows():\n",
    "        col_name = col['field'].replace('#', '_').replace('$', '_')\n",
    "\n",
    "        columns += f\"\\t{col_name} {col['type']}\"\n",
    "        \n",
    "        column_comment = str(col['comment']).replace(\"'\", '\"')\n",
    "        column_note = f\"note: '{column_comment}'\"\n",
    "        primary_key = \"primary key\" if col['is_primary'] else False\n",
    "        \n",
    "        if primary_key and (column_note != \"note: 'nan'\"):\n",
    "            details = f\"[{primary_key}, {column_note}]\"\n",
    "        elif primary_key:\n",
    "            details = f\"[{primary_key}]\"\n",
    "        elif (column_note != \"note: 'nan'\"):\n",
    "            details = f\"[{column_note}]\"\n",
    "        else:\n",
    "            details = False\n",
    "\n",
    "        if details:\n",
    "            columns += f\" {details}\"\n",
    "        \n",
    "        columns += \"\\n\"\n",
    "    \n",
    "    table_note = f\"\\tNote: '''\\n\\t\\t{row['lenteles_paaiskinimas']}\\n\\t\\tObjektas: {row['objektas']}\\n\\t\\tĮrašu skaičius: {row['įrašų skaičius']} \\n\\t'''\\n\"\n",
    "    footer = \"}\\n\"\n",
    "    dbml_line = header + columns + table_note + footer\n",
    "    dbml_lines.append(dbml_line)"
   ]
  },
  {
   "cell_type": "code",
   "execution_count": 7,
   "metadata": {},
   "outputs": [],
   "source": [
    "with open(dbml_filename, 'w', encoding=\"utf8\") as dmbl:\n",
    "    dmbl.writelines(dbml_lines)"
   ]
  }
 ],
 "metadata": {
  "kernelspec": {
   "display_name": "venv",
   "language": "python",
   "name": "python3"
  },
  "language_info": {
   "codemirror_mode": {
    "name": "ipython",
    "version": 3
   },
   "file_extension": ".py",
   "mimetype": "text/x-python",
   "name": "python",
   "nbconvert_exporter": "python",
   "pygments_lexer": "ipython3",
   "version": "3.11.4"
  },
  "orig_nbformat": 4
 },
 "nbformat": 4,
 "nbformat_minor": 2
}
